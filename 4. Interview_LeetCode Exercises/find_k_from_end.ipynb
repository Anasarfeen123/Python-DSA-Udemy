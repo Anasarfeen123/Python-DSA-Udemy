{
 "cells": [
  {
   "cell_type": "markdown",
   "id": "78a284ae",
   "metadata": {},
   "source": [
    "# Find K from end"
   ]
  },
  {
   "cell_type": "markdown",
   "id": "15cdb101",
   "metadata": {},
   "source": [
    "Takes the LinkedList (ll) and an integer k as input, and returns the k-th node from the end of the linked list WITHOUT USING LENGTH. "
   ]
  },
  {
   "cell_type": "markdown",
   "id": "29d42e73",
   "metadata": {},
   "source": [
    "---"
   ]
  },
  {
   "cell_type": "code",
   "execution_count": null,
   "id": "7a4af78e",
   "metadata": {},
   "outputs": [
    {
     "name": "stdout",
     "output_type": "stream",
     "text": [
      "4\n"
     ]
    },
    {
     "data": {
      "text/plain": [
       "'\\n    EXPECTED OUTPUT:\\n    ----------------\\n    4\\n    \\n'"
      ]
     },
     "execution_count": 5,
     "metadata": {},
     "output_type": "execute_result"
    }
   ],
   "source": [
    "def find_kth_from_end(ll, k):\n",
    "    # Initialize two pointers, 'slow' and 'fast', both pointing to the starting node of the linked list.\n",
    "    slow = fast = ll.head   \n",
    "    \n",
    "    # Move the 'fast' pointer 'k' positions ahead.\n",
    "    for _ in range(k):\n",
    "        # If at any point during these 'k' movements, the 'fast' pointer reaches the end of the list, then it means the list has less than 'k' nodes, and thus, returning None is appropriate.\n",
    "        if fast is None:\n",
    "            return None\n",
    "        \n",
    "        # Move the 'fast' pointer to the next node.\n",
    "        fast = fast.next\n",
    "    \n",
    "    # Now, move both 'slow' and 'fast' pointers one node at a time until the 'fast' pointer reaches the end of the list. Since the 'fast' pointer \n",
    "    # is already 'k' nodes ahead of the 'slow' pointer, by the time 'fast' reaches the end, 'slow' will be at the kth node from the end.\n",
    "    while fast:\n",
    "        slow = slow.next\n",
    "        fast = fast.next\n",
    "        \n",
    "    # Return the 'slow' pointer, which is now pointing to the kth node from the end.\n",
    "    return slow"
   ]
  }
 ],
 "metadata": {
  "kernelspec": {
   "display_name": ".venv",
   "language": "python",
   "name": "python3"
  },
  "language_info": {
   "codemirror_mode": {
    "name": "ipython",
    "version": 3
   },
   "file_extension": ".py",
   "mimetype": "text/x-python",
   "name": "python",
   "nbconvert_exporter": "python",
   "pygments_lexer": "ipython3",
   "version": "3.10.12"
  }
 },
 "nbformat": 4,
 "nbformat_minor": 5
}
