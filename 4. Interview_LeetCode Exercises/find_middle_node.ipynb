{
 "cells": [
  {
   "cell_type": "markdown",
   "id": "138c2b1b",
   "metadata": {},
   "source": [
    "# Find Middle Node"
   ]
  },
  {
   "cell_type": "code",
   "execution_count": 1,
   "id": "512da3a5",
   "metadata": {},
   "outputs": [],
   "source": [
    "def find_middle_node(self):\n",
    "    fast = self.head\n",
    "    slow = fast\n",
    "    while fast and fast.next:\n",
    "        slow = slow.next\n",
    "        fast = fast.next.next\n",
    "    \n",
    "    return slow"
   ]
  },
  {
   "cell_type": "code",
   "execution_count": 3,
   "id": "82b1c5fc",
   "metadata": {},
   "outputs": [],
   "source": [
    "class Node:\n",
    "    def __init__(self, value):\n",
    "        self.value = value\n",
    "        self.next = None\n",
    "\n",
    "class Linkedlist_3:\n",
    "    def __init__(self,value):\n",
    "        new_node = Node(value)\n",
    "        self.head = new_node\n",
    "        self.tail = new_node\n",
    "    \n",
    "    def print_list(self):\n",
    "        temp = self.head\n",
    "        while temp is not None:\n",
    "            print(temp.value, end=' -> ')\n",
    "            temp = temp.next\n",
    "        print(\"None\")\n",
    "\n",
    "    def append(self,value):\n",
    "        add_node = Node(value)\n",
    "        if self.head is None:\n",
    "            self.head = add_node\n",
    "        else:\n",
    "            self.tail.next = add_node\n",
    "        self.tail = add_node\n",
    "        return True\n",
    "    \n",
    "    def find_middle_node(self):\n",
    "        fast = self.head\n",
    "        slow = fast\n",
    "        while fast and fast.next:\n",
    "            slow = slow.next\n",
    "            fast = fast.next.next\n",
    "        \n",
    "        return slow"
   ]
  },
  {
   "cell_type": "code",
   "execution_count": null,
   "id": "d788a2ea",
   "metadata": {},
   "outputs": [
    {
     "name": "stdout",
     "output_type": "stream",
     "text": [
      "Made an node instance\n",
      "1 -> None\n",
      "Appended 2\n",
      "Appended 3\n",
      "Appended 3\n",
      "1 -> 2 -> 3 -> 4 -> None\n",
      "3\n"
     ]
    }
   ],
   "source": [
    "# Lets create an instance\n",
    "my_linked_list = Linkedlist_3(1) # hmm\n",
    "print(\"Made an node instance\")\n",
    "\n",
    "my_linked_list.print_list()\n",
    "\n",
    "my_linked_list.append(2) #hmmm\n",
    "print(\"Appended 2\")\n",
    "\n",
    "my_linked_list.append(3) #hmmm\n",
    "print(\"Appended 3\")\n",
    "\n",
    "my_linked_list.append(4) #hmmm\n",
    "print(\"Appended 3\")\n",
    "\n",
    "my_linked_list.print_list()\n",
    "\n",
    "print(my_linked_list.find_middle_node().value)"
   ]
  }
 ],
 "metadata": {
  "kernelspec": {
   "display_name": ".venv",
   "language": "python",
   "name": "python3"
  },
  "language_info": {
   "codemirror_mode": {
    "name": "ipython",
    "version": 3
   },
   "file_extension": ".py",
   "mimetype": "text/x-python",
   "name": "python",
   "nbconvert_exporter": "python",
   "pygments_lexer": "ipython3",
   "version": "3.10.12"
  }
 },
 "nbformat": 4,
 "nbformat_minor": 5
}
