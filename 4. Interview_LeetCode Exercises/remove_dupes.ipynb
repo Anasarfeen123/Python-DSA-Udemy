{
 "cells": [
  {
   "cell_type": "markdown",
   "id": "b3c49566",
   "metadata": {},
   "source": [
    "# Remove Dublicates"
   ]
  },
  {
   "cell_type": "markdown",
   "id": "b551130e",
   "metadata": {},
   "source": [
    "---"
   ]
  },
  {
   "cell_type": "code",
   "execution_count": null,
   "id": "834985a3",
   "metadata": {},
   "outputs": [],
   "source": [
    "def remove_duplicates(self):\n",
    "    # Start 'current' at the head node to check each node’s value for duplicates in the linked list.\n",
    "    current = self.head\n",
    "    \n",
    "    # Loop until 'current' is None (end of the list). This visits every node to check for duplicates.\n",
    "    while current:\n",
    "        # 'runner' starts at 'current' to scan nodes after it, looking for duplicate values.\n",
    "        runner = current\n",
    "        \n",
    "        # Loop while 'runner.next' exists to check the next node’s value against 'current’s value.\n",
    "        while runner.next:\n",
    "            # If the next node’s value equals 'current’s, it’s a duplicate and needs to be removed.\n",
    "            if runner.next.value == current.value:\n",
    "                # Skip the duplicate by linking 'runner’s next pointer to the node after it.\n",
    "                runner.next = runner.next.next\n",
    "                # Decrease the list length by 1 since we removed a node.\n",
    "                self.length -= 1\n",
    "            else:\n",
    "                # If no duplicate, move 'runner' to the next node to keep checking.\n",
    "                runner = runner.next\n",
    "        \n",
    "        # Move 'current' to the next node to check for duplicates of its value in later nodes.\n",
    "        current = current.next"
   ]
  }
 ],
 "metadata": {
  "language_info": {
   "name": "python"
  }
 },
 "nbformat": 4,
 "nbformat_minor": 5
}
