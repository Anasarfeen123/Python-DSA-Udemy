{
 "cells": [
  {
   "cell_type": "markdown",
   "id": "34f5be5f",
   "metadata": {},
   "source": [
    "# Linked Lists"
   ]
  },
  {
   "cell_type": "markdown",
   "id": "dd21fb4c",
   "metadata": {},
   "source": [
    "---"
   ]
  },
  {
   "cell_type": "markdown",
   "id": "0687a1c2",
   "metadata": {},
   "source": [
    "## Intro to Linked Lists"
   ]
  },
  {
   "cell_type": "markdown",
   "id": "5cf511b0",
   "metadata": {},
   "source": [
    "### Python List"
   ]
  },
  {
   "cell_type": "markdown",
   "id": "db62bcbc",
   "metadata": {},
   "source": [
    "A built-in list in Python has the following properties:\n",
    "1. Elements are stored in a contiguous block of memory\n",
    "2. Each element is accessible by an index (O(1) access time)"
   ]
  },
  {
   "cell_type": "code",
   "execution_count": 1,
   "id": "b79c2a57",
   "metadata": {},
   "outputs": [],
   "source": [
    "python_list = [10, 20, 30, 40]  # Example of a Python list"
   ]
  },
  {
   "cell_type": "markdown",
   "id": "1eea32ab",
   "metadata": {},
   "source": [
    "![List](<Screenshot 2025-05-18 121737.png>)"
   ]
  },
  {
   "cell_type": "markdown",
   "id": "46670c83",
   "metadata": {},
   "source": [
    "### Transitioning to a Linked List"
   ]
  },
  {
   "cell_type": "markdown",
   "id": "6d01ebde",
   "metadata": {},
   "source": [
    "![Linked List](<Screenshot 2025-05-18 121938.png>)"
   ]
  },
  {
   "cell_type": "markdown",
   "id": "28fbb62e",
   "metadata": {},
   "source": [
    "Linked lists DO NOT have indexes.\n",
    "They are NOT stored in contiguous memory.\n",
    "Each element (called a 'node') contains:\n",
    "1. A value\n",
    "2. A pointer to the next node"
   ]
  },
  {
   "cell_type": "markdown",
   "id": "0b6a0cde",
   "metadata": {},
   "source": [
    "![Linked list in memory](<Screenshot 2025-05-18 124632.png>)"
   ]
  },
  {
   "cell_type": "markdown",
   "id": "9e60839a",
   "metadata": {},
   "source": [
    "![List in memory](<Screenshot 2025-05-18 124704.png>)"
   ]
  },
  {
   "cell_type": "markdown",
   "id": "9f827c1c",
   "metadata": {},
   "source": [
    "---"
   ]
  },
  {
   "cell_type": "markdown",
   "id": "3e42ef20",
   "metadata": {},
   "source": [
    "## Linked List Big O Complexity"
   ]
  },
  {
   "cell_type": "markdown",
   "id": "2f3e873f",
   "metadata": {},
   "source": [
    "#### Append to End (linked list with tail reference): O(1)"
   ]
  },
  {
   "cell_type": "markdown",
   "id": "aa5c0752",
   "metadata": {},
   "source": [
    "We can directly access the tail node and add a new node. Number of steps is constant regardless of list length.\n"
   ]
  },
  {
   "cell_type": "markdown",
   "id": "265fd4d6",
   "metadata": {},
   "source": [
    "#### Remove from End: O(n)"
   ]
  },
  {
   "cell_type": "markdown",
   "id": "4d456377",
   "metadata": {},
   "source": [
    "Even though we have a tail reference, we cannot go backward in a singly linked list. We must traverse from head to the second-last node to update tail.\n"
   ]
  },
  {
   "cell_type": "markdown",
   "id": "111c8322",
   "metadata": {},
   "source": [
    "#### Prepend (Add to Front): O(1)"
   ]
  },
  {
   "cell_type": "markdown",
   "id": "c2235024",
   "metadata": {},
   "source": [
    "Create new node, point its .next to head, then move head pointer to new node."
   ]
  },
  {
   "cell_type": "markdown",
   "id": "b951c353",
   "metadata": {},
   "source": [
    "#### Remove from Front: O(1)"
   ]
  },
  {
   "cell_type": "markdown",
   "id": "60faf928",
   "metadata": {},
   "source": [
    "Just update head to head.next"
   ]
  },
  {
   "cell_type": "markdown",
   "id": "173d5e3a",
   "metadata": {},
   "source": [
    "#### Insert in Middle (by value or index): O(n)"
   ]
  },
  {
   "cell_type": "markdown",
   "id": "11893bca",
   "metadata": {},
   "source": [
    "We must traverse from head to the insertion point. Insertion is fast, but traversal takes linear time."
   ]
  },
  {
   "cell_type": "markdown",
   "id": "554e81d2",
   "metadata": {},
   "source": [
    "#### Remove in Middle (by value or index): O(n)"
   ]
  },
  {
   "cell_type": "markdown",
   "id": "3ea23894",
   "metadata": {},
   "source": [
    "Similar to insert: we traverse to node before the target, update .next"
   ]
  },
  {
   "cell_type": "markdown",
   "id": "6c4ffbfa",
   "metadata": {},
   "source": [
    "#### Lookup (by value or index): O(n)"
   ]
  },
  {
   "cell_type": "markdown",
   "id": "4ed45042",
   "metadata": {},
   "source": [
    "Must iterate from head through each node one-by-one. Unlike Python lists, we can’t jump to an index directly."
   ]
  },
  {
   "cell_type": "markdown",
   "id": "90606529",
   "metadata": {},
   "source": [
    "---"
   ]
  },
  {
   "cell_type": "markdown",
   "id": "f5a76409",
   "metadata": {},
   "source": [
    "# Big O Summary Table"
   ]
  },
  {
   "cell_type": "markdown",
   "id": "20f55d1d",
   "metadata": {},
   "source": [
    "\n",
    "| Operation             | Linked List | Python List |\n",
    "|-----------------------|-------------|-------------|\n",
    "| Append (end)          | O(1)        | O(1) / O(n) |\n",
    "| Prepend (start)       | O(1)        | O(n)        |\n",
    "| Insert (middle)       | O(n)        | O(n)        |\n",
    "| Remove from end       | O(n)        | O(1)        |\n",
    "| Remove from front     | O(1)        | O(n)        |\n",
    "| Remove (middle)       | O(n)        | O(n)        |\n",
    "| Lookup by index       | O(n)        | O(1)        |\n",
    "| Lookup by value       | O(n)        | O(n)        |\n"
   ]
  },
  {
   "cell_type": "markdown",
   "id": "152cfc80",
   "metadata": {},
   "source": [
    "![Table](<Screenshot 2025-05-18 130707.png>)"
   ]
  },
  {
   "cell_type": "markdown",
   "id": "3ffc1c05",
   "metadata": {},
   "source": []
  }
 ],
 "metadata": {
  "kernelspec": {
   "display_name": "Python 3",
   "language": "python",
   "name": "python3"
  },
  "language_info": {
   "codemirror_mode": {
    "name": "ipython",
    "version": 3
   },
   "file_extension": ".py",
   "mimetype": "text/x-python",
   "name": "python",
   "nbconvert_exporter": "python",
   "pygments_lexer": "ipython3",
   "version": "3.11.9"
  }
 },
 "nbformat": 4,
 "nbformat_minor": 5
}
