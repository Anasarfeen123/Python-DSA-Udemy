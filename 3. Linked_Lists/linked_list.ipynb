{
 "cells": [
  {
   "cell_type": "markdown",
   "id": "34f5be5f",
   "metadata": {},
   "source": [
    "# Linked Lists"
   ]
  },
  {
   "cell_type": "markdown",
   "id": "dd21fb4c",
   "metadata": {},
   "source": [
    "---"
   ]
  },
  {
   "cell_type": "markdown",
   "id": "0687a1c2",
   "metadata": {},
   "source": [
    "## Intro to Linked Lists"
   ]
  },
  {
   "cell_type": "markdown",
   "id": "5cf511b0",
   "metadata": {},
   "source": [
    "### Python List"
   ]
  },
  {
   "cell_type": "markdown",
   "id": "db62bcbc",
   "metadata": {},
   "source": [
    "A built-in list in Python has the following properties:\n",
    "1. Elements are stored in a contiguous block of memory\n",
    "2. Each element is accessible by an index (O(1) access time)"
   ]
  },
  {
   "cell_type": "code",
   "execution_count": 1,
   "id": "b79c2a57",
   "metadata": {},
   "outputs": [],
   "source": [
    "python_list = [10, 20, 30, 40]  # Example of a Python list"
   ]
  },
  {
   "cell_type": "markdown",
   "id": "1eea32ab",
   "metadata": {},
   "source": [
    "![List](<Screenshot 2025-05-18 121737.png>)"
   ]
  },
  {
   "cell_type": "markdown",
   "id": "46670c83",
   "metadata": {},
   "source": [
    "### Transitioning to a Linked List"
   ]
  },
  {
   "cell_type": "markdown",
   "id": "6d01ebde",
   "metadata": {},
   "source": [
    "![Linked List](<Screenshot 2025-05-18 121938.png>)"
   ]
  },
  {
   "cell_type": "markdown",
   "id": "28fbb62e",
   "metadata": {},
   "source": [
    "Linked lists DO NOT have indexes.\n",
    "They are NOT stored in contiguous memory.\n",
    "Each element (called a 'node') contains:\n",
    "1. A value\n",
    "2. A pointer to the next node"
   ]
  },
  {
   "cell_type": "markdown",
   "id": "0b6a0cde",
   "metadata": {},
   "source": [
    "![Linked list in memory](<Screenshot 2025-05-18 124632.png>)"
   ]
  },
  {
   "cell_type": "markdown",
   "id": "9e60839a",
   "metadata": {},
   "source": [
    "![List in memory](<Screenshot 2025-05-18 124704.png>)"
   ]
  },
  {
   "cell_type": "markdown",
   "id": "9f827c1c",
   "metadata": {},
   "source": []
  }
 ],
 "metadata": {
  "kernelspec": {
   "display_name": "Python 3",
   "language": "python",
   "name": "python3"
  },
  "language_info": {
   "codemirror_mode": {
    "name": "ipython",
    "version": 3
   },
   "file_extension": ".py",
   "mimetype": "text/x-python",
   "name": "python",
   "nbconvert_exporter": "python",
   "pygments_lexer": "ipython3",
   "version": "3.11.9"
  }
 },
 "nbformat": 4,
 "nbformat_minor": 5
}
