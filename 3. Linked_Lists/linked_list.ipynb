{
 "cells": [
  {
   "cell_type": "markdown",
   "id": "34f5be5f",
   "metadata": {},
   "source": [
    "# Linked Lists"
   ]
  },
  {
   "cell_type": "markdown",
   "id": "dd21fb4c",
   "metadata": {},
   "source": [
    "---"
   ]
  },
  {
   "cell_type": "markdown",
   "id": "0687a1c2",
   "metadata": {},
   "source": [
    "## Intro to Linked Lists"
   ]
  },
  {
   "cell_type": "markdown",
   "id": "5cf511b0",
   "metadata": {},
   "source": [
    "### Python List"
   ]
  },
  {
   "cell_type": "markdown",
   "id": "db62bcbc",
   "metadata": {},
   "source": [
    "A built-in list in Python has the following properties:\n",
    "1. Elements are stored in a contiguous block of memory\n",
    "2. Each element is accessible by an index (O(1) access time)"
   ]
  },
  {
   "cell_type": "code",
   "execution_count": null,
   "id": "b79c2a57",
   "metadata": {},
   "outputs": [],
   "source": [
    "python_list = [10, 20, 30, 40]  # Example of a Python list"
   ]
  },
  {
   "cell_type": "markdown",
   "id": "1eea32ab",
   "metadata": {},
   "source": [
    "![List](<Screenshot 2025-05-18 121737.png>)"
   ]
  },
  {
   "cell_type": "markdown",
   "id": "46670c83",
   "metadata": {},
   "source": [
    "### Transitioning to a Linked List"
   ]
  },
  {
   "cell_type": "markdown",
   "id": "6d01ebde",
   "metadata": {},
   "source": [
    "![Linked List](<Screenshot 2025-05-18 121938.png>)"
   ]
  },
  {
   "cell_type": "markdown",
   "id": "28fbb62e",
   "metadata": {},
   "source": [
    "Linked lists DO NOT have indexes.\n",
    "They are NOT stored in contiguous memory.\n",
    "Each element (called a 'node') contains:\n",
    "1. A value\n",
    "2. A pointer to the next node"
   ]
  },
  {
   "cell_type": "markdown",
   "id": "0b6a0cde",
   "metadata": {},
   "source": [
    "![Linked list in memory](<Screenshot 2025-05-18 124632.png>)"
   ]
  },
  {
   "cell_type": "markdown",
   "id": "9e60839a",
   "metadata": {},
   "source": [
    "![List in memory](<Screenshot 2025-05-18 124704.png>)"
   ]
  },
  {
   "cell_type": "markdown",
   "id": "9f827c1c",
   "metadata": {},
   "source": [
    "---"
   ]
  },
  {
   "cell_type": "markdown",
   "id": "3e42ef20",
   "metadata": {},
   "source": [
    "## Linked List Big O Complexity"
   ]
  },
  {
   "cell_type": "markdown",
   "id": "2f3e873f",
   "metadata": {},
   "source": [
    "#### Append to End (linked list with tail reference): O(1)"
   ]
  },
  {
   "cell_type": "markdown",
   "id": "aa5c0752",
   "metadata": {},
   "source": [
    "We can directly access the tail node and add a new node. Number of steps is constant regardless of list length.\n"
   ]
  },
  {
   "cell_type": "markdown",
   "id": "265fd4d6",
   "metadata": {},
   "source": [
    "#### Remove from End: O(n)"
   ]
  },
  {
   "cell_type": "markdown",
   "id": "4d456377",
   "metadata": {},
   "source": [
    "Even though we have a tail reference, we cannot go backward in a singly linked list. We must traverse from head to the second-last node to update tail.\n"
   ]
  },
  {
   "cell_type": "markdown",
   "id": "111c8322",
   "metadata": {},
   "source": [
    "#### Prepend (Add to Front): O(1)"
   ]
  },
  {
   "cell_type": "markdown",
   "id": "c2235024",
   "metadata": {},
   "source": [
    "Create new node, point its .next to head, then move head pointer to new node."
   ]
  },
  {
   "cell_type": "markdown",
   "id": "b951c353",
   "metadata": {},
   "source": [
    "#### Remove from Front: O(1)"
   ]
  },
  {
   "cell_type": "markdown",
   "id": "60faf928",
   "metadata": {},
   "source": [
    "Just update head to head.next"
   ]
  },
  {
   "cell_type": "markdown",
   "id": "173d5e3a",
   "metadata": {},
   "source": [
    "#### Insert in Middle (by value or index): O(n)"
   ]
  },
  {
   "cell_type": "markdown",
   "id": "11893bca",
   "metadata": {},
   "source": [
    "We must traverse from head to the insertion point. Insertion is fast, but traversal takes linear time."
   ]
  },
  {
   "cell_type": "markdown",
   "id": "554e81d2",
   "metadata": {},
   "source": [
    "#### Remove in Middle (by value or index): O(n)"
   ]
  },
  {
   "cell_type": "markdown",
   "id": "3ea23894",
   "metadata": {},
   "source": [
    "Similar to insert: we traverse to node before the target, update .next"
   ]
  },
  {
   "cell_type": "markdown",
   "id": "6c4ffbfa",
   "metadata": {},
   "source": [
    "#### Lookup (by value or index): O(n)"
   ]
  },
  {
   "cell_type": "markdown",
   "id": "4ed45042",
   "metadata": {},
   "source": [
    "Must iterate from head through each node one-by-one. Unlike Python lists, we can’t jump to an index directly."
   ]
  },
  {
   "cell_type": "markdown",
   "id": "90606529",
   "metadata": {},
   "source": [
    "---"
   ]
  },
  {
   "cell_type": "markdown",
   "id": "f5a76409",
   "metadata": {},
   "source": [
    "### Big O Summary Table"
   ]
  },
  {
   "cell_type": "markdown",
   "id": "20f55d1d",
   "metadata": {},
   "source": [
    "\n",
    "| Operation             | Linked List | Python List |\n",
    "|-----------------------|-------------|-------------|\n",
    "| Append (end)          | O(1)        | O(1) / O(n) |\n",
    "| Prepend (start)       | O(1)        | O(n)        |\n",
    "| Insert (middle)       | O(n)        | O(n)        |\n",
    "| Remove from end       | O(n)        | O(1)        |\n",
    "| Remove from front     | O(1)        | O(n)        |\n",
    "| Remove (middle)       | O(n)        | O(n)        |\n",
    "| Lookup by index       | O(n)        | O(1)        |\n",
    "| Lookup by value       | O(n)        | O(n)        |\n"
   ]
  },
  {
   "cell_type": "markdown",
   "id": "152cfc80",
   "metadata": {},
   "source": [
    "![Table](<Screenshot 2025-05-18 130707.png>)"
   ]
  },
  {
   "cell_type": "markdown",
   "id": "3ffc1c05",
   "metadata": {},
   "source": [
    "---"
   ]
  },
  {
   "cell_type": "markdown",
   "id": "374d041e",
   "metadata": {},
   "source": [
    "# Linked List: Under the Hood"
   ]
  },
  {
   "cell_type": "markdown",
   "id": "97d6cbd7",
   "metadata": {},
   "source": [
    " A Node is not just a value — it also includes a pointer to the next node"
   ]
  },
  {
   "cell_type": "code",
   "execution_count": null,
   "id": "f491ab34",
   "metadata": {},
   "outputs": [],
   "source": [
    "# So each Node is conceptually like a dictionary:\n",
    "\n",
    "node_example = {\n",
    "    \"value\": 4,\n",
    "    \"next\": None\n",
    "}"
   ]
  },
  {
   "cell_type": "markdown",
   "id": "b9e4eb77",
   "metadata": {},
   "source": [
    "Each node's \"next\" points to another dictionary (node)"
   ]
  },
  {
   "cell_type": "code",
   "execution_count": null,
   "id": "965a0cfe",
   "metadata": {},
   "outputs": [],
   "source": [
    "# --- Simulating a linked list with nested dictionaries ---\n",
    "head = {\n",
    "    \"value\": 11,\n",
    "    \"next\": {\n",
    "        \"value\": 3,\n",
    "        \"next\": {\n",
    "            \"value\": 23,\n",
    "            \"next\": {\n",
    "                \"value\": 7,\n",
    "                \"next\": {\n",
    "                    \"value\": 4,\n",
    "                    \"next\": None\n",
    "                }\n",
    "            }\n",
    "        }\n",
    "    }\n",
    "}"
   ]
  },
  {
   "cell_type": "code",
   "execution_count": null,
   "id": "172968fc",
   "metadata": {},
   "outputs": [],
   "source": [
    "# Accessing the value '23' (which is 3rd node in the list)\n",
    "print(\"Accessed value:\", head[\"next\"][\"next\"][\"value\"])  # Output: 23"
   ]
  },
  {
   "cell_type": "markdown",
   "id": "40af6ee6",
   "metadata": {},
   "source": [
    "---"
   ]
  },
  {
   "cell_type": "markdown",
   "id": "1710d9ec",
   "metadata": {},
   "source": [
    "# Linked List Constructor"
   ]
  },
  {
   "cell_type": "markdown",
   "id": "f9595b32",
   "metadata": {},
   "source": [
    "Step 1: Define a Node Class"
   ]
  },
  {
   "cell_type": "code",
   "execution_count": null,
   "id": "29b22ca5",
   "metadata": {},
   "outputs": [],
   "source": [
    "# Each node stores a value and a reference to the next node\n",
    "\n",
    "class Node:\n",
    "    def __init__(self, value):\n",
    "        self.value = value  # stores the node's data\n",
    "        self.next = None    # reference to the next node (initially None)\n"
   ]
  },
  {
   "cell_type": "markdown",
   "id": "0925ac70",
   "metadata": {},
   "source": [
    "Step 2: Define the LinkedList Class"
   ]
  },
  {
   "cell_type": "code",
   "execution_count": null,
   "id": "f866d207",
   "metadata": {},
   "outputs": [],
   "source": [
    "# This manages the sequence of nodes starting from head\n",
    "\n",
    "class LinkedList:\n",
    "    def __init__(self, value):\n",
    "        # Step 1: Create a new node using Node class\n",
    "        new_node = Node(value)\n",
    "\n",
    "        # Step 2: Point head and tail to that new node\n",
    "        self.head = new_node\n",
    "        self.tail = new_node\n",
    "\n",
    "        # Step 3: Initialize length of list\n",
    "        self.length = 1\n"
   ]
  },
  {
   "cell_type": "markdown",
   "id": "d5b9c3cd",
   "metadata": {},
   "source": [
    "Create a Linked List Instance"
   ]
  },
  {
   "cell_type": "code",
   "execution_count": null,
   "id": "47138606",
   "metadata": {},
   "outputs": [],
   "source": [
    "my_linked_list = LinkedList(4)  # Creates a linked list with one node (value = 4)\n",
    "\n",
    "# Testing the constructor\n",
    "print(\"Head value:\", my_linked_list.head.value)  # Output: 4\n",
    "print(\"Tail value:\", my_linked_list.tail.value)  # Output: 4\n",
    "print(\"Length:\", my_linked_list.length)         # Output: 1"
   ]
  },
  {
   "cell_type": "markdown",
   "id": "6df2b331",
   "metadata": {},
   "source": [
    "## Why We Create a Node Class"
   ]
  },
  {
   "cell_type": "markdown",
   "id": "7203c137",
   "metadata": {},
   "source": [
    "The LinkedList constructor, as well as append(), prepend(), insert(), etc. all create new nodes — rather than duplicating code, we delegate node creation to the Node class for consistency and clarity."
   ]
  },
  {
   "cell_type": "markdown",
   "id": "98399968",
   "metadata": {},
   "source": [
    "---"
   ]
  },
  {
   "cell_type": "markdown",
   "id": "70594371",
   "metadata": {},
   "source": [
    "# Print List"
   ]
  },
  {
   "cell_type": "code",
   "execution_count": null,
   "id": "fdce2819",
   "metadata": {},
   "outputs": [],
   "source": [
    "# We create a temp node which iterates thorought the linked list starting as head till its .next has the value None\n",
    "def print_list(self):\n",
    "    temp = self.head\n",
    "    while temp is not None:\n",
    "        print(temp.value)\n",
    "        temp = temp.next\n",
    "\n",
    "try:\n",
    "    print_list() # type: ignore (sorry, vscode was annoying me)\n",
    "except Exception as e:\n",
    "    print(\"Error: \",e) \n",
    "# This is going to give an error as its not in a class, lets make a class below"
   ]
  },
  {
   "cell_type": "code",
   "execution_count": null,
   "id": "441c267d",
   "metadata": {},
   "outputs": [],
   "source": [
    "# This is Node constructor class\n",
    "class Node:\n",
    "    def __init__(self,value) -> None:\n",
    "        self.value = value\n",
    "        self.next = None\n",
    "\n",
    "# Lets make Linked List Class\n",
    "class LinkedList:\n",
    "    def __init__(self, value) -> None:\n",
    "        new_node = Node(value)\n",
    "        self.head = new_node\n",
    "        self.tail = new_node\n",
    "        self.length = 1\n",
    "\n",
    "# Lets now write that print list funtion\n",
    "    def print_list(self):\n",
    "        temp = self.head\n",
    "        while temp is not None:\n",
    "            print(temp.value)\n",
    "            temp = temp.next"
   ]
  },
  {
   "cell_type": "code",
   "execution_count": null,
   "id": "8295979c",
   "metadata": {},
   "outputs": [],
   "source": [
    "# Lets create an instance\n",
    "my_linked_list = LinkedList(69) # nice\n",
    "\n",
    "my_linked_list.print_list()"
   ]
  },
  {
   "cell_type": "markdown",
   "id": "349dc5a0",
   "metadata": {},
   "source": [
    "---"
   ]
  },
  {
   "cell_type": "markdown",
   "id": "cabc37c8",
   "metadata": {},
   "source": [
    "# Append List"
   ]
  },
  {
   "cell_type": "markdown",
   "id": "5dc446d5",
   "metadata": {},
   "source": [
    "Lets yeet the previous code for all the classes"
   ]
  },
  {
   "cell_type": "code",
   "execution_count": null,
   "id": "245ddbae",
   "metadata": {},
   "outputs": [],
   "source": [
    "class Node:\n",
    "    def __init__(self,value) -> None:\n",
    "        self.value = value\n",
    "        self.next = None\n",
    "\n",
    "class LinkedList:\n",
    "    def __init__(self, value) -> None:\n",
    "        new_node = Node(value)\n",
    "        self.head = new_node\n",
    "        self.tail = new_node\n",
    "        self.length = 1\n",
    "\n",
    "    def print_list(self):\n",
    "        temp = self.head\n",
    "        while temp is not None:\n",
    "            print(temp.value)\n",
    "            temp = temp.next\n",
    "\n",
    "# Now, lets add a new method to append a new node at the end of the list\n",
    "    def append(self,value):\n",
    "        add_node = Node(value) # made a new node using constructor or should i say cookie cutter ;) \n",
    "        if self.head is None:\n",
    "            self.head = add_node # it means the list is empty, its going to connect the new node as head automatically\n",
    "        else:\n",
    "            self.tail.next = add_node # else, its going to connect it next to tail of the list\n",
    "        self.tail = add_node # changes the lists tail to the node \n",
    "        self.length +=1 # increments the length by one\n",
    "        return True # Its important ahead, trust me ;>"
   ]
  },
  {
   "cell_type": "code",
   "execution_count": null,
   "id": "769c27bc",
   "metadata": {},
   "outputs": [],
   "source": [
    "# Lets create an instance\n",
    "my_linked_list = LinkedList(69) # nice\n",
    "print(\"Made an node instance\")\n",
    "\n",
    "my_linked_list.print_list()\n",
    "\n",
    "my_linked_list.append(96) #hmmm\n",
    "print(\"Appended 96\")\n",
    "\n",
    "my_linked_list.print_list()"
   ]
  },
  {
   "cell_type": "markdown",
   "id": "0600b079",
   "metadata": {},
   "source": [
    "---"
   ]
  },
  {
   "cell_type": "markdown",
   "id": "346a2d80",
   "metadata": {},
   "source": [
    "# Pop List"
   ]
  },
  {
   "cell_type": "markdown",
   "id": "f78d9036",
   "metadata": {},
   "source": [
    "This one is a bit not so straight forward, so bukle up!"
   ]
  },
  {
   "cell_type": "code",
   "execution_count": null,
   "id": "d411163c",
   "metadata": {},
   "outputs": [],
   "source": [
    "# So let's see what our logic should be\n",
    "def pop(self):\n",
    "    \n",
    "    # Edge case 1: If the list is empty\n",
    "    if self.length == 0:\n",
    "        return None  # Return nothing (fair enough ig)\n",
    "    \n",
    "    # Edge case 2: If it's a single-element list (just like if I was a list 🥲)\n",
    "    elif self.length == 1:\n",
    "        ret = self.tail  # Temporary node to hold the tail so we can return it\n",
    "        self.head = None \n",
    "        self.tail = None  # Head and tail --> gone\n",
    "        self.length = 0  # List is now empty\n",
    "        return ret  # Returning the only node\n",
    "    \n",
    "    # Now that all edge cases are done\n",
    "    else:\n",
    "        temp = self.head \n",
    "        pre = self.head  # Two temporary pointers starting at head\n",
    "        while temp.next is not None:  \n",
    "            pre = temp\n",
    "            temp = temp.next\n",
    "        # After the loop:\n",
    "        # temp will be at the last node, pre will be at the second last\n",
    "        self.tail = pre  # Set tail to the second last node\n",
    "        self.tail.next = None  # Tail should point to nothing\n",
    "        self.length -= 1  # Decrement length by 1\n",
    "        return temp  # Return the popped (last) element\n"
   ]
  },
  {
   "cell_type": "markdown",
   "id": "7a38f052",
   "metadata": {},
   "source": [
    "Now, lets add that to our class."
   ]
  },
  {
   "cell_type": "code",
   "execution_count": null,
   "id": "02905538",
   "metadata": {},
   "outputs": [],
   "source": [
    "class Node:\n",
    "    def __init__(self, value):\n",
    "        self.value = value\n",
    "        self.next = None\n",
    "\n",
    "class Linkedlist_1:\n",
    "    def __init__(self,value):\n",
    "        new_node = Node(value)\n",
    "        self.head = new_node\n",
    "        self.tail = new_node\n",
    "        self.length = 1\n",
    "    \n",
    "    def print_list(self): #Yes, yes, i made it better, no need to thanks me ;>\n",
    "        temp = self.head\n",
    "        while temp is not None:\n",
    "            print(temp.value, end=' -> ')\n",
    "            temp = temp.next\n",
    "        print(\"None\")\n",
    "        \n",
    "    def append(self,value):\n",
    "        add_node = Node(value)\n",
    "        if self.head is None:\n",
    "            self.head = add_node\n",
    "        else:\n",
    "            self.tail.next = add_node\n",
    "        self.tail = add_node\n",
    "        self.length +=1\n",
    "        return True\n",
    "    \n",
    "    def pop(self):\n",
    "        if self.length == 0:\n",
    "            return None\n",
    "        elif self.length == 1:\n",
    "            ret = self.tail\n",
    "            self.head = None\n",
    "            self.tail = None\n",
    "            self.length = 0\n",
    "            return ret\n",
    "        else:\n",
    "            temp = self.head\n",
    "            pre = self.head\n",
    "            while temp.next is not None:\n",
    "                pre = temp\n",
    "                temp = temp.next\n",
    "            self.tail = pre\n",
    "            self.tail.next = None\n",
    "            self.length -= 1\n",
    "            return temp"
   ]
  },
  {
   "cell_type": "code",
   "execution_count": null,
   "id": "af21a316",
   "metadata": {},
   "outputs": [],
   "source": [
    "# Lets create an instance\n",
    "my_linked_list = Linkedlist_1(69) # nice\n",
    "print(\"Made an node instance\")\n",
    "\n",
    "my_linked_list.print_list()\n",
    "\n",
    "my_linked_list.append(96) #hmmm\n",
    "print(\"Appended 96\")\n",
    "\n",
    "my_linked_list.print_list()\n",
    "\n",
    "print(\"Poped value: \",my_linked_list.pop().value)\n",
    "\n",
    "my_linked_list.print_list()"
   ]
  },
  {
   "cell_type": "markdown",
   "id": "b319ac28",
   "metadata": {},
   "source": [
    "---"
   ]
  },
  {
   "cell_type": "markdown",
   "id": "f6a026ea",
   "metadata": {},
   "source": [
    "# Prepend"
   ]
  },
  {
   "cell_type": "code",
   "execution_count": 1,
   "id": "a43f7a9b",
   "metadata": {},
   "outputs": [],
   "source": [
    "def prepend(self,value):\n",
    "    new_node = Node(value) # Creates a Node\n",
    "    if self.length == 0:   # If the list is empty, it assigns the node as head as well as tail\n",
    "        self.head = new_node\n",
    "        self.tail = new_node\n",
    "    else: # else, it makes such that node's next to be head of the list and then, the node itself becomes the head of the list\n",
    "        new_node.next = self.head\n",
    "        self.head = new_node\n",
    "    self.length +=1 # increments the list by one\n",
    "    return True"
   ]
  },
  {
   "cell_type": "code",
   "execution_count": 6,
   "id": "eda3e04b",
   "metadata": {},
   "outputs": [],
   "source": [
    "class Node:\n",
    "    def __init__(self, value):\n",
    "        self.value = value\n",
    "        self.next = None\n",
    "\n",
    "class Linkedlist_2:\n",
    "    def __init__(self,value):\n",
    "        new_node = Node(value)\n",
    "        self.head = new_node\n",
    "        self.tail = new_node\n",
    "        self.length = 1\n",
    "    \n",
    "    def print_list(self):\n",
    "        temp = self.head\n",
    "        while temp is not None:\n",
    "            print(temp.value, end=' -> ')\n",
    "            temp = temp.next\n",
    "        print(\"None\")\n",
    "\n",
    "    def append(self,value):\n",
    "        add_node = Node(value)\n",
    "        if self.head is None:\n",
    "            self.head = add_node\n",
    "        else:\n",
    "            self.tail.next = add_node\n",
    "        self.tail = add_node\n",
    "        self.length +=1\n",
    "        return True\n",
    "    \n",
    "    def prepend(self,value):\n",
    "        new_node = Node(value)\n",
    "        if self.length == 0:\n",
    "            self.head = new_node\n",
    "            self.tail = new_node\n",
    "        else:\n",
    "            new_node.next = self.head\n",
    "            self.head = new_node\n",
    "        self.length +=1\n",
    "        return True    \n",
    "    "
   ]
  },
  {
   "cell_type": "code",
   "execution_count": null,
   "id": "11096f07",
   "metadata": {},
   "outputs": [
    {
     "name": "stdout",
     "output_type": "stream",
     "text": [
      "Made an node instance\n",
      "69 -> None\n",
      "Appended 96\n",
      "69 -> 96 -> None\n",
      "Prepended 96\n",
      "90 -> 69 -> 96 -> None\n"
     ]
    }
   ],
   "source": [
    "# Lets create an instance\n",
    "my_linked_list = Linkedlist_2(69) # nice\n",
    "print(\"Made an node instance\")\n",
    "\n",
    "my_linked_list.print_list()\n",
    "\n",
    "my_linked_list.append(96) #hmmm\n",
    "print(\"Appended 96\")\n",
    "\n",
    "my_linked_list.print_list()\n",
    "\n",
    "my_linked_list.prepend(90) #hmmm\n",
    "print(\"Prepended 96\")\n",
    "\n",
    "my_linked_list.print_list()"
   ]
  },
  {
   "cell_type": "markdown",
   "id": "0a22d947",
   "metadata": {},
   "source": [
    "---"
   ]
  },
  {
   "cell_type": "markdown",
   "id": "7c3a0082",
   "metadata": {},
   "source": [
    "# Pop First"
   ]
  },
  {
   "cell_type": "code",
   "execution_count": 9,
   "id": "7eaad640",
   "metadata": {},
   "outputs": [],
   "source": [
    "def pop_first(self):\n",
    "    if self.length == 0:  # If the list is empty, return None\n",
    "        return None\n",
    "    else:\n",
    "        temp = self.head  # Store the current head in a temporary variable\n",
    "        self.head = self.head.next  # Move the head to the next node\n",
    "        self.length -= 1  # Decrease the list length by 1\n",
    "        temp.next = None  # Disconnect the removed node from the list\n",
    "        if self.length == 0:  # If the list becomes empty, set the tail to None as well\n",
    "            self.tail = None\n",
    "        return temp  # Return the removed node"
   ]
  },
  {
   "cell_type": "code",
   "execution_count": 11,
   "id": "ff2362a4",
   "metadata": {},
   "outputs": [],
   "source": [
    "class Node:\n",
    "    def __init__(self, value):\n",
    "        self.value = value\n",
    "        self.next = None\n",
    "\n",
    "class Linkedlist_3:\n",
    "    def __init__(self,value):\n",
    "        new_node = Node(value)\n",
    "        self.head = new_node\n",
    "        self.tail = new_node\n",
    "        self.length = 1\n",
    "    \n",
    "    def print_list(self):\n",
    "        temp = self.head\n",
    "        while temp is not None:\n",
    "            print(temp.value, end=' -> ')\n",
    "            temp = temp.next\n",
    "        print(\"None\")\n",
    "\n",
    "    def append(self,value):\n",
    "        add_node = Node(value)\n",
    "        if self.head is None:\n",
    "            self.head = add_node\n",
    "        else:\n",
    "            self.tail.next = add_node\n",
    "        self.tail = add_node\n",
    "        self.length +=1\n",
    "        return True\n",
    "    \n",
    "    def pop_first(self):\n",
    "        if self.length == 0:\n",
    "            return None\n",
    "        else:\n",
    "            temp = self.head\n",
    "            self.head = self.head.next\n",
    "            self.length -=1\n",
    "            temp.next = None\n",
    "            if self.length == 0:\n",
    "                self.tail = None\n",
    "            return temp "
   ]
  },
  {
   "cell_type": "code",
   "execution_count": 14,
   "id": "3961bc3e",
   "metadata": {},
   "outputs": [
    {
     "name": "stdout",
     "output_type": "stream",
     "text": [
      "Made an node instance\n",
      "69 -> None\n",
      "Appended 96\n",
      "69 -> 96 -> None\n",
      "Poped: 69\n",
      "96 -> None\n"
     ]
    }
   ],
   "source": [
    "# Lets create an instance\n",
    "my_linked_list = Linkedlist_3(69) # nice\n",
    "print(\"Made an node instance\")\n",
    "\n",
    "my_linked_list.print_list()\n",
    "\n",
    "my_linked_list.append(96) #hmmm\n",
    "print(\"Appended 96\")\n",
    "\n",
    "my_linked_list.print_list()\n",
    "\n",
    "print(\"Poped:\",my_linked_list.pop_first().value)\n",
    "\n",
    "my_linked_list.print_list()"
   ]
  },
  {
   "cell_type": "markdown",
   "id": "63df52c9",
   "metadata": {},
   "source": [
    "---"
   ]
  },
  {
   "cell_type": "markdown",
   "id": "17df02b0",
   "metadata": {},
   "source": [
    "# GET"
   ]
  },
  {
   "cell_type": "code",
   "execution_count": null,
   "id": "6057eb57",
   "metadata": {},
   "outputs": [],
   "source": [
    "def get(self, index):\n",
    "    temp = self.head # Store the current head in a temporary variable\n",
    "    if index >= self.length or index <0: # Edge cases: if index is more than length or if its negative, it retorns None\n",
    "        return None\n",
    "    else: # Else, it iterates throughout the list till it reaches the index\n",
    "        for i in range(index):\n",
    "            temp = temp.next\n",
    "        return temp # Gives backs the result"
   ]
  },
  {
   "cell_type": "code",
   "execution_count": 18,
   "id": "ab7711b5",
   "metadata": {},
   "outputs": [],
   "source": [
    "class Node:\n",
    "    def __init__(self, value):\n",
    "        self.value = value\n",
    "        self.next = None\n",
    "\n",
    "class Linkedlist_3:\n",
    "    def __init__(self,value):\n",
    "        new_node = Node(value)\n",
    "        self.head = new_node\n",
    "        self.tail = new_node\n",
    "        self.length = 1\n",
    "    \n",
    "    def print_list(self):\n",
    "        temp = self.head\n",
    "        while temp is not None:\n",
    "            print(temp.value, end=' -> ')\n",
    "            temp = temp.next\n",
    "        print(\"None\")\n",
    "\n",
    "    def append(self,value):\n",
    "        add_node = Node(value)\n",
    "        if self.head is None:\n",
    "            self.head = add_node\n",
    "        else:\n",
    "            self.tail.next = add_node\n",
    "        self.tail = add_node\n",
    "        self.length +=1\n",
    "        return True\n",
    "    \n",
    "    def get(self, index):\n",
    "        temp = self.head\n",
    "        if index >= self.length or index <0:\n",
    "            return None\n",
    "        else:\n",
    "            for i in range(index):\n",
    "                temp = temp.next\n",
    "            return temp"
   ]
  },
  {
   "cell_type": "code",
   "execution_count": 24,
   "id": "aede747a",
   "metadata": {},
   "outputs": [
    {
     "name": "stdout",
     "output_type": "stream",
     "text": [
      "Made an node instance\n",
      "69 -> None\n",
      "Appended 96\n",
      "Appended 96\n",
      "69 -> 96 -> 63936 -> None\n",
      "Second index is : 63936\n",
      "69 -> 96 -> 63936 -> None\n"
     ]
    }
   ],
   "source": [
    "# Lets create an instance\n",
    "my_linked_list = Linkedlist_3(69) # nice\n",
    "print(\"Made an node instance\")\n",
    "\n",
    "my_linked_list.print_list()\n",
    "\n",
    "my_linked_list.append(96) #hmmm\n",
    "print(\"Appended 96\")\n",
    "\n",
    "my_linked_list.append(63936) #hmmm\n",
    "print(\"Appended 96\")\n",
    "\n",
    "my_linked_list.print_list()\n",
    "\n",
    "print(\"Second index is :\",my_linked_list.get(2).value)\n",
    "\n",
    "my_linked_list.print_list()"
   ]
  },
  {
   "cell_type": "markdown",
   "id": "ff61d36a",
   "metadata": {},
   "source": [
    "---"
   ]
  },
  {
   "cell_type": "markdown",
   "id": "86405b6f",
   "metadata": {},
   "source": [
    "# SET"
   ]
  },
  {
   "cell_type": "code",
   "execution_count": 26,
   "id": "846e23a0",
   "metadata": {},
   "outputs": [],
   "source": [
    "def set_value(self, index, value): # Gets value and index\n",
    "    temp = self.get(index)  # Gets the value at the index\n",
    "    if temp is not None: \n",
    "        temp.value = value # replaces the value with new value if its not none\n",
    "        return True\n",
    "    else: return False # else, it returns False as its not possible"
   ]
  },
  {
   "cell_type": "code",
   "execution_count": 27,
   "id": "960cf3ff",
   "metadata": {},
   "outputs": [],
   "source": [
    "class Node:\n",
    "    def __init__(self, value):\n",
    "        self.value = value\n",
    "        self.next = None\n",
    "\n",
    "class Linkedlist_3:\n",
    "    def __init__(self,value):\n",
    "        new_node = Node(value)\n",
    "        self.head = new_node\n",
    "        self.tail = new_node\n",
    "        self.length = 1\n",
    "    \n",
    "    def print_list(self):\n",
    "        temp = self.head\n",
    "        while temp is not None:\n",
    "            print(temp.value, end=' -> ')\n",
    "            temp = temp.next\n",
    "        print(\"None\")\n",
    "\n",
    "    def append(self,value):\n",
    "        add_node = Node(value)\n",
    "        if self.head is None:\n",
    "            self.head = add_node\n",
    "        else:\n",
    "            self.tail.next = add_node\n",
    "        self.tail = add_node\n",
    "        self.length +=1\n",
    "        return True\n",
    "    \n",
    "    def get(self, index):\n",
    "        temp = self.head\n",
    "        if index >= self.length or index <0:\n",
    "            return None\n",
    "        else:\n",
    "            for i in range(index):\n",
    "                temp = temp.next\n",
    "            return temp\n",
    "        \n",
    "    def set_value(self, index, value):\n",
    "        temp = self.get(index)\n",
    "        if temp is not None:\n",
    "            temp.value = value\n",
    "            return True\n",
    "        else: return False"
   ]
  },
  {
   "cell_type": "code",
   "execution_count": 29,
   "id": "31b38cb2",
   "metadata": {},
   "outputs": [
    {
     "name": "stdout",
     "output_type": "stream",
     "text": [
      "Made an node instance\n",
      "69 -> None\n",
      "Appended 96\n",
      "Appended 96\n",
      "69 -> 96 -> 63936 -> None\n",
      "Second index is : 63936\n",
      "69 -> 96 -> 63936 -> None\n",
      "Now, second index must be 123\n",
      "69 -> 96 -> 123 -> None\n"
     ]
    }
   ],
   "source": [
    "# Lets create an instance\n",
    "my_linked_list = Linkedlist_3(69) # nice\n",
    "print(\"Made an node instance\")\n",
    "\n",
    "my_linked_list.print_list()\n",
    "\n",
    "my_linked_list.append(96) #hmmm\n",
    "print(\"Appended 96\")\n",
    "\n",
    "my_linked_list.append(63936) #hmmm\n",
    "print(\"Appended 96\")\n",
    "\n",
    "my_linked_list.print_list()\n",
    "\n",
    "print(\"Second index is :\",my_linked_list.get(2).value)\n",
    "\n",
    "my_linked_list.print_list()\n",
    "\n",
    "my_linked_list.set_value(2,123)\n",
    "\n",
    "print(\"Now, second index must be 123\")\n",
    "\n",
    "my_linked_list.print_list()"
   ]
  },
  {
   "cell_type": "markdown",
   "id": "9fe30a3f",
   "metadata": {},
   "source": [
    "---"
   ]
  },
  {
   "cell_type": "markdown",
   "id": "3bce5270",
   "metadata": {},
   "source": [
    "# Insert"
   ]
  },
  {
   "cell_type": "code",
   "execution_count": 30,
   "id": "596e2008",
   "metadata": {},
   "outputs": [],
   "source": [
    "def insert(self, index, value):\n",
    "    if index<0 or index>self.length: # Edge case: Same as that of get() method\n",
    "        return False\n",
    "    \n",
    "    if index == 0: # If a list is empty, we just prepend the value\n",
    "        return self.prepend(value)\n",
    "    \n",
    "    elif index==self.length: # If index inputed is at last, we could just append the value\n",
    "        return self.append(value)\n",
    "    \n",
    "    # Else, we do this\n",
    "    add_node = Node(value) # Creates a Temporary node\n",
    "    prev = self.get(index -1) # Gets the node before the required index\n",
    "    add_node.next = prev.next # The temporary node's next is as same as prev node's next\n",
    "    prev.next = add_node # and then, the new node is the next of prev node\n",
    "    self.length+=1 # increments the list by 1\n",
    "    return True"
   ]
  },
  {
   "cell_type": "code",
   "execution_count": 31,
   "id": "aed11a2f",
   "metadata": {},
   "outputs": [],
   "source": [
    "class Node:\n",
    "    def __init__(self, value):\n",
    "        self.value = value\n",
    "        self.next = None\n",
    "\n",
    "class Linkedlist_3:\n",
    "    def __init__(self,value):\n",
    "        new_node = Node(value)\n",
    "        self.head = new_node\n",
    "        self.tail = new_node\n",
    "        self.length = 1\n",
    "    \n",
    "    def print_list(self):\n",
    "        temp = self.head\n",
    "        while temp is not None:\n",
    "            print(temp.value, end=' -> ')\n",
    "            temp = temp.next\n",
    "        print(\"None\")\n",
    "\n",
    "    def prepend(self,value):\n",
    "        new_node = Node(value)\n",
    "        if self.length == 0:\n",
    "            self.head = new_node\n",
    "            self.tail = new_node\n",
    "        else:\n",
    "            new_node.next = self.head\n",
    "            self.head = new_node\n",
    "        self.length +=1\n",
    "        return True\n",
    "    \n",
    "    def append(self,value):\n",
    "        add_node = Node(value)\n",
    "        if self.head is None:\n",
    "            self.head = add_node\n",
    "        else:\n",
    "            self.tail.next = add_node\n",
    "        self.tail = add_node\n",
    "        self.length +=1\n",
    "        return True\n",
    "    \n",
    "    def get(self, index):\n",
    "        temp = self.head\n",
    "        if index >= self.length or index <0:\n",
    "            return None\n",
    "        else:\n",
    "            for i in range(index):\n",
    "                temp = temp.next\n",
    "            return temp\n",
    "        \n",
    "    def insert(self, index, value):\n",
    "        if index<0 or index>self.length:\n",
    "            return False\n",
    "        \n",
    "        if index == 0:\n",
    "            return self.prepend(value)\n",
    "        \n",
    "        elif index==self.length:\n",
    "            return self.append(value)\n",
    "        \n",
    "        add_node = Node(value)\n",
    "        prev = self.get(index -1)\n",
    "        add_node.next = prev.next\n",
    "        prev.next = add_node\n",
    "        self.length+=1\n",
    "        return True"
   ]
  },
  {
   "cell_type": "code",
   "execution_count": 32,
   "id": "a2dc2219",
   "metadata": {},
   "outputs": [
    {
     "name": "stdout",
     "output_type": "stream",
     "text": [
      "Made an node instance\n",
      "69 -> None\n",
      "Appended 96\n",
      "Appended 96\n",
      "69 -> 96 -> 63936 -> None\n",
      "Second index is : 63936\n",
      "69 -> 96 -> 63936 -> None\n",
      "Now, second index must be 123\n",
      "69 -> 96 -> 123 -> 63936 -> None\n"
     ]
    }
   ],
   "source": [
    "# Lets create an instance\n",
    "my_linked_list = Linkedlist_3(69) # nice\n",
    "print(\"Made an node instance\")\n",
    "\n",
    "my_linked_list.print_list()\n",
    "\n",
    "my_linked_list.append(96) #hmmm\n",
    "print(\"Appended 96\")\n",
    "\n",
    "my_linked_list.append(63936) #hmmm\n",
    "print(\"Appended 96\")\n",
    "\n",
    "my_linked_list.print_list()\n",
    "\n",
    "print(\"Second index is :\",my_linked_list.get(2).value)\n",
    "\n",
    "my_linked_list.print_list()\n",
    "\n",
    "my_linked_list.insert(2,123)\n",
    "\n",
    "print(\"Now, second index must be 123\")\n",
    "\n",
    "my_linked_list.print_list()"
   ]
  },
  {
   "cell_type": "markdown",
   "id": "6ee09721",
   "metadata": {},
   "source": [
    "---"
   ]
  },
  {
   "cell_type": "markdown",
   "id": "4427a580",
   "metadata": {},
   "source": [
    "# Remove"
   ]
  },
  {
   "cell_type": "code",
   "execution_count": 33,
   "id": "77a75bb2",
   "metadata": {},
   "outputs": [],
   "source": [
    "def remove(self, index):\n",
    "    if index < 0 or index >= self.length:  # Out of range? Not today.\n",
    "        return None\n",
    "\n",
    "    if index == 0:\n",
    "        return self.pop_first()  # Let pop_first handle the trauma\n",
    "\n",
    "    if index == self.length - 1:\n",
    "        return self.pop()  # Just pop the tail like it's hot\n",
    "    \n",
    "    prev = self.get(index - 1) # Gets the node before the required index\n",
    "    req = prev.next\n",
    "    prev.next = req.next # The prev node's next is req.next\n",
    "    req.next = None\n",
    "    self.length-=1 # decrements the list by 1\n",
    "    return req"
   ]
  },
  {
   "cell_type": "code",
   "execution_count": 35,
   "id": "a626966d",
   "metadata": {},
   "outputs": [],
   "source": [
    "class Node:\n",
    "    def __init__(self, value):\n",
    "        self.value = value\n",
    "        self.next = None\n",
    "\n",
    "class Linkedlist_3:\n",
    "    def __init__(self,value):\n",
    "        new_node = Node(value)\n",
    "        self.head = new_node\n",
    "        self.tail = new_node\n",
    "        self.length = 1\n",
    "    \n",
    "    def print_list(self):\n",
    "        temp = self.head\n",
    "        while temp is not None:\n",
    "            print(temp.value, end=' -> ')\n",
    "            temp = temp.next\n",
    "        print(\"None\")\n",
    "\n",
    "    def append(self,value):\n",
    "        add_node = Node(value)\n",
    "        if self.head is None:\n",
    "            self.head = add_node\n",
    "        else:\n",
    "            self.tail.next = add_node\n",
    "        self.tail = add_node\n",
    "        self.length +=1\n",
    "        return True\n",
    "    \n",
    "    def get(self, index):\n",
    "        temp = self.head\n",
    "        if index >= self.length or index <0:\n",
    "            return None\n",
    "        else:\n",
    "            for i in range(index):\n",
    "                temp = temp.next\n",
    "            return temp\n",
    "        \n",
    "    def pop_first(self):\n",
    "        if self.length == 0:\n",
    "            return None\n",
    "        else:\n",
    "            temp = self.head\n",
    "            self.head = self.head.next\n",
    "            self.length -=1\n",
    "            temp.next = None\n",
    "            if self.length == 0:\n",
    "                self.tail = None\n",
    "            return temp\n",
    "    \n",
    "    def pop(self):\n",
    "        if self.length == 0:\n",
    "            return None\n",
    "        elif self.length == 1:\n",
    "            ret = self.tail\n",
    "            self.head = None\n",
    "            self.tail = None\n",
    "            self.length = 0\n",
    "            return ret\n",
    "        else:\n",
    "            temp = self.head\n",
    "            pre = self.head\n",
    "            while temp.next is not None:\n",
    "                pre = temp\n",
    "                temp = temp.next\n",
    "            self.tail = pre\n",
    "            self.tail.next = None\n",
    "            self.length -= 1\n",
    "            return temp\n",
    "\n",
    "    def remove(self, index):\n",
    "        if index < 0 or index >= self.length:\n",
    "            return None\n",
    "\n",
    "        if index == 0:\n",
    "            return self.pop_first()\n",
    "\n",
    "        if index == self.length - 1:\n",
    "            return self.pop()\n",
    "        \n",
    "        prev = self.get(index - 1)\n",
    "        req = prev.next\n",
    "        prev.next = req.next\n",
    "        req.next = None\n",
    "        self.length-=1\n",
    "        return req"
   ]
  },
  {
   "cell_type": "code",
   "execution_count": 36,
   "id": "3e7e2f94",
   "metadata": {},
   "outputs": [
    {
     "name": "stdout",
     "output_type": "stream",
     "text": [
      "Made an node instance\n",
      "69 -> None\n",
      "Appended 96\n",
      "Appended 96\n",
      "69 -> 96 -> 63936 -> None\n",
      "Second index is : 63936\n",
      "69 -> 96 -> 63936 -> None\n",
      "Now, second index must not be 63936\n",
      "69 -> 96 -> None\n"
     ]
    }
   ],
   "source": [
    "# Lets create an instance\n",
    "my_linked_list = Linkedlist_3(69) # nice\n",
    "print(\"Made an node instance\")\n",
    "\n",
    "my_linked_list.print_list()\n",
    "\n",
    "my_linked_list.append(96) #hmmm\n",
    "print(\"Appended 96\")\n",
    "\n",
    "my_linked_list.append(63936) #hmmm\n",
    "print(\"Appended 96\")\n",
    "\n",
    "my_linked_list.print_list()\n",
    "\n",
    "print(\"Second index is :\",my_linked_list.get(2).value)\n",
    "\n",
    "my_linked_list.print_list()\n",
    "\n",
    "my_linked_list.remove(2)\n",
    "\n",
    "print(\"Now, second index must not be 63936\")\n",
    "\n",
    "my_linked_list.print_list()"
   ]
  },
  {
   "cell_type": "code",
   "execution_count": null,
   "id": "8bc08a12",
   "metadata": {},
   "outputs": [],
   "source": []
  }
 ],
 "metadata": {
  "kernelspec": {
   "display_name": "Python 3",
   "language": "python",
   "name": "python3"
  },
  "language_info": {
   "codemirror_mode": {
    "name": "ipython",
    "version": 3
   },
   "file_extension": ".py",
   "mimetype": "text/x-python",
   "name": "python",
   "nbconvert_exporter": "python",
   "pygments_lexer": "ipython3",
   "version": "3.11.9"
  }
 },
 "nbformat": 4,
 "nbformat_minor": 5
}
