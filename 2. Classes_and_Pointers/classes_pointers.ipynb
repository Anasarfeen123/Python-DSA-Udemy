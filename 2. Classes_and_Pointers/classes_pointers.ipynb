{
 "cells": [
  {
   "cell_type": "markdown",
   "id": "b57ad15b",
   "metadata": {},
   "source": [
    "# Python Class: Cookie Example"
   ]
  },
  {
   "cell_type": "markdown",
   "id": "a8ddfac7",
   "metadata": {},
   "source": [
    "---"
   ]
  },
  {
   "cell_type": "markdown",
   "id": "c707fdef",
   "metadata": {},
   "source": [
    "A class is like a cookie cutter. It defines a template for creating objects. When we define a class, we're creating our own data type."
   ]
  },
  {
   "cell_type": "code",
   "execution_count": 1,
   "id": "fca12b70",
   "metadata": {},
   "outputs": [],
   "source": [
    "class Cookie:\n",
    "    # Constructor Method (also called __init__): gets called when a new object is created\n",
    "    def __init__(self, color):\n",
    "        # 'self' refers to the instance being created\n",
    "        # 'color' is the parameter passed during instantiation\n",
    "        # 'self.color' assigns the color to the specific object\n",
    "        self.color = color\n",
    "\n",
    "    # Method to get the color of the cookie\n",
    "    def get_color(self):\n",
    "        return self.color\n",
    "\n",
    "    # Method to set a new color for the cookie\n",
    "    def set_color(self, color):\n",
    "        self.color = color"
   ]
  },
  {
   "cell_type": "markdown",
   "id": "2844986c",
   "metadata": {},
   "source": [
    "---"
   ]
  },
  {
   "cell_type": "markdown",
   "id": "40f07cff",
   "metadata": {},
   "source": [
    "## Creating Cookie Instances"
   ]
  },
  {
   "cell_type": "code",
   "execution_count": 2,
   "id": "d799dcaf",
   "metadata": {},
   "outputs": [
    {
     "name": "stdout",
     "output_type": "stream",
     "text": [
      "Cookie One Color: green\n",
      "Cookie Two Color: blue\n",
      "Cookie One New Color: yellow\n",
      "Cookie Two Still: blue\n"
     ]
    }
   ],
   "source": [
    "# Create a green cookie\n",
    "cookie_one = Cookie(\"green\")\n",
    "# Create a blue cookie\n",
    "cookie_two = Cookie(\"blue\")\n",
    "\n",
    "# Print their colors\n",
    "print(\"Cookie One Color:\", cookie_one.get_color())  # Output: green\n",
    "print(\"Cookie Two Color:\", cookie_two.get_color())  # Output: blue\n",
    "\n",
    "# === Modify Cookie One's Color ===\n",
    "cookie_one.set_color(\"yellow\")\n",
    "\n",
    "# Print colors after change\n",
    "print(\"Cookie One New Color:\", cookie_one.get_color())  # Output: yellow\n",
    "print(\"Cookie Two Still:\", cookie_two.get_color())      # Output: blue"
   ]
  },
  {
   "cell_type": "markdown",
   "id": "fab6e1aa",
   "metadata": {},
   "source": [
    "---"
   ]
  },
  {
   "cell_type": "markdown",
   "id": "9557fbdc",
   "metadata": {},
   "source": [
    "## Applying this to Data Structures"
   ]
  },
  {
   "cell_type": "code",
   "execution_count": null,
   "id": "49b28f03",
   "metadata": {},
   "outputs": [],
   "source": [
    "# In the course, all data structures (e.g., LinkedList) will be implemented using classes\n",
    "# Example headers (not fully implemented here):\n",
    "\n",
    "class LinkedList:\n",
    "    def __init__(self):\n",
    "        pass  # Constructor for linked list setup\n",
    "\n",
    "    def append(self, value):\n",
    "        pass  # To add element at the end\n",
    "\n",
    "    def prepend(self, value):\n",
    "        pass  # To add element at the beginning\n",
    "\n",
    "    def insert(self, index, value):\n",
    "        pass  # To insert at a specific position\n",
    "\n",
    "    def remove(self, value):\n",
    "        pass  # To remove an element\n",
    "\n",
    "    def pop(self):\n",
    "        pass  # To remove the last element\n"
   ]
  }
 ],
 "metadata": {
  "kernelspec": {
   "display_name": "Python 3",
   "language": "python",
   "name": "python3"
  },
  "language_info": {
   "codemirror_mode": {
    "name": "ipython",
    "version": 3
   },
   "file_extension": ".py",
   "mimetype": "text/x-python",
   "name": "python",
   "nbconvert_exporter": "python",
   "pygments_lexer": "ipython3",
   "version": "3.11.9"
  }
 },
 "nbformat": 4,
 "nbformat_minor": 5
}
