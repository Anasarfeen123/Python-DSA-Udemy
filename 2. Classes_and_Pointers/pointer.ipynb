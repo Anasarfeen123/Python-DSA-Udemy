{
 "cells": [
  {
   "cell_type": "markdown",
   "id": "4795db47",
   "metadata": {},
   "source": [
    "# POINTERS IN PYTHON"
   ]
  },
  {
   "cell_type": "markdown",
   "id": "b7aacf79",
   "metadata": {},
   "source": [
    "---"
   ]
  },
  {
   "cell_type": "markdown",
   "id": "e811ab21",
   "metadata": {},
   "source": [
    "Python uses references to handle variables pointing to the same data in memory."
   ]
  },
  {
   "cell_type": "markdown",
   "id": "c06d5b24",
   "metadata": {},
   "source": [
    "#### Example 1: Immutable Data Type (Integer)"
   ]
  },
  {
   "cell_type": "code",
   "execution_count": null,
   "id": "9310708d",
   "metadata": {},
   "outputs": [],
   "source": [
    "num1 = 11\n",
    "num2 = num1  # Points to the same 11\n",
    "\n",
    "print(\"num1:\", num1)\n",
    "print(\"num2:\", num2)\n",
    "print(\"id(num1):\", id(num1))\n",
    "print(\"id(num2):\", id(num2))  # Same ID as num1\n",
    "\n",
    "num2 = 22  # Reassignment creates a new integer object\n",
    "\n",
    "print(\"\\nAfter num2 = 22\")\n",
    "print(\"num1:\", num1)  # Still 11\n",
    "print(\"num2:\", num2)  # Now 22\n",
    "print(\"id(num1):\", id(num1))\n",
    "print(\"id(num2):\", id(num2))  # Different ID now"
   ]
  },
  {
   "cell_type": "markdown",
   "id": "196065ab",
   "metadata": {},
   "source": [
    "Integers are immutable: you cannot change 11 once created"
   ]
  },
  {
   "cell_type": "markdown",
   "id": "16255052",
   "metadata": {},
   "source": [
    "#### Example 2: Mutable Data Type (Dictionary)"
   ]
  },
  {
   "cell_type": "code",
   "execution_count": null,
   "id": "539050d3",
   "metadata": {},
   "outputs": [],
   "source": [
    "dict1 = {\"value\": 11}\n",
    "dict2 = dict1  # Both point to the same dictionary\n",
    "\n",
    "print(\"\\ndict1:\", dict1)\n",
    "print(\"dict2:\", dict2)\n",
    "print(\"id(dict1):\", id(dict1))\n",
    "print(\"id(dict2):\", id(dict2))  # Same ID\n",
    "\n",
    "# Modifying the dictionary\n",
    "dict2[\"value\"] = 22\n",
    "\n",
    "print(\"\\nAfter dict2['value'] = 22\")\n",
    "print(\"dict1:\", dict1)  # Now reflects 22 as well\n",
    "print(\"dict2:\", dict2)\n",
    "print(\"id(dict1):\", id(dict1))\n",
    "print(\"id(dict2):\", id(dict2))  # Still same ID"
   ]
  },
  {
   "cell_type": "markdown",
   "id": "62c10170",
   "metadata": {},
   "source": [
    "Dictionaries are mutable: modifications affect all references"
   ]
  },
  {
   "cell_type": "markdown",
   "id": "d3d1c92b",
   "metadata": {},
   "source": [
    "---"
   ]
  },
  {
   "cell_type": "markdown",
   "id": "ba157055",
   "metadata": {},
   "source": [
    "## Pointer Redirection Example"
   ]
  },
  {
   "cell_type": "code",
   "execution_count": null,
   "id": "b304cad3",
   "metadata": {},
   "outputs": [],
   "source": [
    "dict3 = {\"value\": 33}\n",
    "dict2 = dict3  # dict2 now points to dict3\n",
    "print(\"\\nAfter dict2 = dict3\")\n",
    "print(\"dict2:\", dict2)\n",
    "print(\"id(dict2):\", id(dict2))\n",
    "\n",
    "# Redirecting dict1 to point to dict2 as well\n",
    "dict1 = dict2\n",
    "print(\"\\nAfter dict1 = dict2\")\n",
    "print(\"dict1:\", dict1)\n",
    "print(\"dict2:\", dict2)\n",
    "print(\"id(dict1):\", id(dict1))\n",
    "print(\"id(dict2):\", id(dict2))  # All three point to the same object"
   ]
  },
  {
   "cell_type": "markdown",
   "id": "f331f87f",
   "metadata": {},
   "source": [
    "The original dictionary that only dict1 pointed to is now unreferenced => garbage collected\n",
    "\n",
    "In Linked Lists:\n",
    "1. Nodes are like dictionaries: mutable\n",
    "2. Variables (like 'head') can be redirected to point to different nodes\n",
    "3. Multiple variables can reference and modify the same node\n"
   ]
  }
 ],
 "metadata": {
  "kernelspec": {
   "display_name": "Python 3",
   "language": "python",
   "name": "python3"
  },
  "language_info": {
   "codemirror_mode": {
    "name": "ipython",
    "version": 3
   },
   "file_extension": ".py",
   "mimetype": "text/x-python",
   "name": "python",
   "nbconvert_exporter": "python",
   "pygments_lexer": "ipython3",
   "version": "3.11.9"
  }
 },
 "nbformat": 4,
 "nbformat_minor": 5
}
