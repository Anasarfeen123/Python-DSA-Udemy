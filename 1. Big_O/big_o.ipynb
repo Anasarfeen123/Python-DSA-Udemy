{
 "cells": [
  {
   "cell_type": "markdown",
   "id": "c5f965e9",
   "metadata": {},
   "source": [
    "# Big_O Time Complexity"
   ]
  },
  {
   "cell_type": "markdown",
   "id": "d057d866",
   "metadata": {},
   "source": [
    "---"
   ]
  },
  {
   "cell_type": "markdown",
   "id": "72b664ef",
   "metadata": {},
   "source": [
    "### O(1) - Constant Time"
   ]
  },
  {
   "cell_type": "markdown",
   "id": "0dd1b5eb",
   "metadata": {},
   "source": [
    "Constant time complexity: execution time is independent of input size.\n",
    "Example: Simple arithmetic operation or accessing an element by index."
   ]
  },
  {
   "cell_type": "code",
   "execution_count": null,
   "id": "9a552bf9",
   "metadata": {},
   "outputs": [],
   "source": [
    "def add_items(n):\n",
    "    # Only one operation regardless of n\n",
    "    return n + n + n\n",
    "\n",
    "print(\"O(1) example:\", add_items(10))"
   ]
  },
  {
   "cell_type": "markdown",
   "id": "a889a22c",
   "metadata": {},
   "source": [
    "---"
   ]
  },
  {
   "cell_type": "markdown",
   "id": "8f19b7dd",
   "metadata": {},
   "source": [
    "### O(n) - Linear Time"
   ]
  },
  {
   "cell_type": "markdown",
   "id": "8dc1b85a",
   "metadata": {},
   "source": [
    "Linear time complexity: directly proportional to input size.\n",
    "Example: Single loop over the input."
   ]
  },
  {
   "cell_type": "code",
   "execution_count": null,
   "id": "28612b90",
   "metadata": {},
   "outputs": [],
   "source": [
    "def print_linear_items(n):\n",
    "    for i in range(n):  # Runs n times\n",
    "        print(\"O(n) example:\", i)\n",
    "\n",
    "print_linear_items(10)"
   ]
  },
  {
   "cell_type": "markdown",
   "id": "e1b99bbf",
   "metadata": {},
   "source": [
    "---"
   ]
  },
  {
   "cell_type": "markdown",
   "id": "df3ae412",
   "metadata": {},
   "source": [
    "### O(n^2) - Quadratic Time"
   ]
  },
  {
   "cell_type": "markdown",
   "id": "d1117dd2",
   "metadata": {},
   "source": [
    "Nested loop: each loop runs n times, total = n * n = n^2"
   ]
  },
  {
   "cell_type": "code",
   "execution_count": null,
   "id": "772084c8",
   "metadata": {},
   "outputs": [],
   "source": [
    "def print_quadratic_items(n):\n",
    "    for i in range(n):\n",
    "        for j in range(n):\n",
    "            print(\"O(n^2) example:\", i, j)\n",
    "\n",
    "print_quadratic_items(5)"
   ]
  },
  {
   "cell_type": "markdown",
   "id": "0a2d8eae",
   "metadata": {},
   "source": [
    "---"
   ]
  },
  {
   "cell_type": "markdown",
   "id": "afda404d",
   "metadata": {},
   "source": [
    "----"
   ]
  },
  {
   "cell_type": "markdown",
   "id": "2b1abb60",
   "metadata": {},
   "source": [
    "## Drop Constants Rule"
   ]
  },
  {
   "cell_type": "markdown",
   "id": "8899ffa5",
   "metadata": {},
   "source": [
    "O(n + n) becomes O(2n), and then we drop constants to simplify to O(n)"
   ]
  },
  {
   "cell_type": "code",
   "execution_count": null,
   "id": "f17579ae",
   "metadata": {},
   "outputs": [],
   "source": [
    "def print_with_constants(n):\n",
    "    for i in range(n):\n",
    "        print(\"First loop:\", i)\n",
    "    for j in range(n):\n",
    "        print(\"Second loop:\", j)\n",
    "    # Even though there are two loops, time is still linear in n.\n",
    "\n",
    "print_with_constants(5)"
   ]
  },
  {
   "cell_type": "markdown",
   "id": "cec721a3",
   "metadata": {},
   "source": [
    "## Drop Non-Dominant Terms"
   ]
  },
  {
   "cell_type": "markdown",
   "id": "a47ecbec",
   "metadata": {},
   "source": [
    "O(n^2 + n) becomes O(n^2) because n^2 dominates for large input"
   ]
  },
  {
   "cell_type": "code",
   "execution_count": null,
   "id": "0cbda88a",
   "metadata": {},
   "outputs": [],
   "source": [
    "def print_non_dominant(n):\n",
    "    for i in range(n):\n",
    "        for j in range(n):\n",
    "            print(\"Dominant loop:\", i, j)  # O(n^2)\n",
    "    \n",
    "    for k in range(n):\n",
    "        print(\"Non-dominant loop:\", k)  # O(n), which we drop in Big O\n",
    "\n",
    "print_non_dominant(3)"
   ]
  },
  {
   "cell_type": "markdown",
   "id": "14ebe625",
   "metadata": {},
   "source": [
    "## Different Terms for Inputs (O(a + b))"
   ]
  },
  {
   "cell_type": "markdown",
   "id": "42609e1a",
   "metadata": {},
   "source": [
    "When the loops run based on different inputs, they are separate terms.\n",
    "This gives O(a + b), not O(n^2) or similar."
   ]
  },
  {
   "cell_type": "code",
   "execution_count": null,
   "id": "b9c4f086",
   "metadata": {},
   "outputs": [],
   "source": [
    "def print_items_different_inputs(a, b):\n",
    "    for i in range(a):\n",
    "        print(\"First input loop:\", i)\n",
    "\n",
    "    for j in range(b):\n",
    "        print(\"Second input loop:\", j)\n",
    "\n",
    "print_items_different_inputs(2, 3)"
   ]
  },
  {
   "cell_type": "markdown",
   "id": "1d0149af",
   "metadata": {},
   "source": [
    "---"
   ]
  },
  {
   "cell_type": "markdown",
   "id": "d051a26a",
   "metadata": {},
   "source": [
    "# Important website"
   ]
  },
  {
   "cell_type": "code",
   "execution_count": 3,
   "id": "bea21c73",
   "metadata": {},
   "outputs": [
    {
     "data": {
      "text/html": [
       "<embed src=\"big-o-cheatsheet.pdf\" width=\"800\" height=\"600\" type=\"application/pdf\">"
      ],
      "text/plain": [
       "<IPython.core.display.HTML object>"
      ]
     },
     "execution_count": 3,
     "metadata": {},
     "output_type": "execute_result"
    }
   ],
   "source": [
    "from IPython.display import HTML\n",
    "\n",
    "# Embed with HTML (local or URL)\n",
    "HTML('<embed src=\"big-o-cheatsheet.pdf\" width=\"800\" height=\"600\" type=\"application/pdf\">')\n"
   ]
  },
  {
   "cell_type": "markdown",
   "id": "ba4f5d13",
   "metadata": {},
   "source": [
    "---"
   ]
  },
  {
   "cell_type": "markdown",
   "id": "638a85c4",
   "metadata": {},
   "source": [
    "# THEORETICAL SUMMARY"
   ]
  },
  {
   "cell_type": "markdown",
   "id": "7e83dc21",
   "metadata": {},
   "source": [
    "1. Big-O Notation: Worst case runtime\n",
    "2. Omega (Ω): Best case runtime\n",
    "3. Theta (Θ): Average case runtime"
   ]
  },
  {
   "cell_type": "markdown",
   "id": "ede796bd",
   "metadata": {},
   "source": [
    "## Time Complexities:\n",
    "1. O(1): Constant - array access, arithmetic\n",
    "2. O(log n): Logarithmic - binary search\n",
    "3. O(n): Linear - single loop\n",
    "4. O(n log n): Merge sort, Quick sort\n",
    "5. O(n^2): Bubble sort, nested loops"
   ]
  },
  {
   "cell_type": "markdown",
   "id": "4ab81c46",
   "metadata": {},
   "source": [
    "\n",
    "Rules:\n",
    "1. Drop Non-Dominant Terms: O(n^2 + n) => O(n^2)\n",
    "2. Drop Constants: O(3n) => O(n)"
   ]
  }
 ],
 "metadata": {
  "kernelspec": {
   "display_name": "Python 3",
   "language": "python",
   "name": "python3"
  },
  "language_info": {
   "codemirror_mode": {
    "name": "ipython",
    "version": 3
   },
   "file_extension": ".py",
   "mimetype": "text/x-python",
   "name": "python",
   "nbconvert_exporter": "python",
   "pygments_lexer": "ipython3",
   "version": "3.11.9"
  }
 },
 "nbformat": 4,
 "nbformat_minor": 5
}
